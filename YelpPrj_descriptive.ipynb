{
 "cells": [
  {
   "cell_type": "code",
   "execution_count": 1,
   "metadata": {},
   "outputs": [],
   "source": [
    "import findspark\n",
    "findspark.init()\n",
    "from pyspark import SparkContext\n",
    "sc = SparkContext()\n",
    "\n",
    "from pyspark.sql import SparkSession\n",
    "spark = SparkSession.builder.appName(\"lab-ml\").getOrCreate()"
   ]
  },
  {
   "cell_type": "code",
   "execution_count": 3,
   "metadata": {},
   "outputs": [],
   "source": [
    "business_data = spark.read\\\n",
    "  .format('csv')\\\n",
    "  .option('header', 'true')\\\n",
    "  .option('inferSchema', 'true')\\\n",
    "  .load('s3://bigdataclasslhn/Prj_Yelp/yelp_business.csv')"
   ]
  },
  {
   "cell_type": "code",
   "execution_count": 4,
   "metadata": {},
   "outputs": [
    {
     "name": "stdout",
     "output_type": "stream",
     "text": [
      "+-----+-----+\n",
      "|State|count|\n",
      "+-----+-----+\n",
      "|   AZ|56686|\n",
      "|   NV|36312|\n",
      "|   ON|33412|\n",
      "|   NC|14720|\n",
      "|   OH|14697|\n",
      "|   PA|11216|\n",
      "|   QC| 9219|\n",
      "|   AB| 8012|\n",
      "|   WI| 5154|\n",
      "|   IL| 1932|\n",
      "|   SC| 1162|\n",
      "|   NY|   22|\n",
      "|   CA|   19|\n",
      "|   TX|    6|\n",
      "|   FL|    4|\n",
      "|  XGM|    4|\n",
      "|   CT|    3|\n",
      "|   WA|    3|\n",
      "|   AL|    3|\n",
      "|  XWY|    2|\n",
      "+-----+-----+\n",
      "only showing top 20 rows\n",
      "\n"
     ]
    }
   ],
   "source": [
    "from pyspark.sql.functions import col\n",
    "\n",
    "# Show the distribution of states in dataset\n",
    "business_data.groupBy(\"State\").count().sort(col(\"count\").desc()).show()"
   ]
  },
  {
   "cell_type": "code",
   "execution_count": 5,
   "metadata": {},
   "outputs": [
    {
     "name": "stdout",
     "output_type": "stream",
     "text": [
      "+-----+-----+\n",
      "|Stars|count|\n",
      "+-----+-----+\n",
      "|  4.0|35969|\n",
      "|  3.5|35008|\n",
      "|  5.0|28216|\n",
      "|  4.5|27301|\n",
      "|  3.0|25996|\n",
      "|  2.5|18843|\n",
      "|  2.0|11426|\n",
      "|  1.5| 4976|\n",
      "|  1.0| 4874|\n",
      "+-----+-----+\n",
      "\n"
     ]
    }
   ],
   "source": [
    "#How many stars are usually given to the stores by customers.\n",
    "\n",
    "business_data.groupBy(\"Stars\").count().sort(col(\"count\").desc()).show()"
   ]
  },
  {
   "cell_type": "code",
   "execution_count": 6,
   "metadata": {},
   "outputs": [],
   "source": [
    "review_data = spark.read\\\n",
    "  .format('csv')\\\n",
    "  .option('header', 'true')\\\n",
    "  .option('inferSchema', 'true')\\\n",
    "  .load('s3://bigdataclasslhn/Prj_Yelp/review1.csv')"
   ]
  },
  {
   "cell_type": "code",
   "execution_count": 7,
   "metadata": {},
   "outputs": [
    {
     "name": "stdout",
     "output_type": "stream",
     "text": [
      "+------+-------+\n",
      "|useful|  count|\n",
      "+------+-------+\n",
      "|     0|1334365|\n",
      "|     1| 535864|\n",
      "|     2| 249908|\n",
      "|     3| 130830|\n",
      "|     4|  75258|\n",
      "|     5|  46727|\n",
      "|     6|  30798|\n",
      "|     7|  21349|\n",
      "|     8|  15395|\n",
      "|     9|  11215|\n",
      "|    10|   8498|\n",
      "|    11|   6350|\n",
      "|    12|   5145|\n",
      "|    13|   4142|\n",
      "|    14|   3269|\n",
      "|    15|   2694|\n",
      "|    16|   2278|\n",
      "|    17|   1788|\n",
      "|    18|   1499|\n",
      "|    19|   1383|\n",
      "+------+-------+\n",
      "only showing top 20 rows\n",
      "\n"
     ]
    }
   ],
   "source": [
    "#The distribution of how many useful will reviews get.\n",
    "\n",
    "review_data.groupBy(\"useful\").count().sort(col(\"count\").desc()).show()"
   ]
  },
  {
   "cell_type": "code",
   "execution_count": 37,
   "metadata": {},
   "outputs": [
    {
     "name": "stdout",
     "output_type": "stream",
     "text": [
      "+--------------------+-----------+\n",
      "|                text|avg(useful)|\n",
      "+--------------------+-----------+\n",
      "|Dinner for 1.- Pr...|     1241.0|\n",
      "|In retrospect I s...|     1122.0|\n",
      "|This restaurant i...|      970.0|\n",
      "|This is the secon...|      846.0|\n",
      "|I actually suspec...|      808.0|\n",
      "|scary that people...|      781.0|\n",
      "|I really wanted t...|      694.0|\n",
      "|A few years ago a...|      668.0|\n",
      "|I'd put zero star...|      650.0|\n",
      "|We were very disa...|      578.0|\n",
      "|Came into town to...|      539.0|\n",
      "|I was disappointe...|      538.0|\n",
      "|My wife and I wal...|      514.0|\n",
      "|Update.....just f...|      509.0|\n",
      "|I live in mesa wo...|      507.0|\n",
      "|I went to this pl...|      500.0|\n",
      "|I've eaten here t...|      498.0|\n",
      "|I went to ABC dur...|      467.0|\n",
      "|Was in Arizona to...|      405.0|\n",
      "|Customer service ...|      401.0|\n",
      "+--------------------+-----------+\n",
      "only showing top 20 rows\n",
      "\n"
     ]
    }
   ],
   "source": [
    "# Top 20 useful reviews.\n",
    "\n",
    "review_data.groupBy(\"text\").avg(\"useful\").sort(col(\"avg(useful)\").desc()).show()"
   ]
  },
  {
   "cell_type": "code",
   "execution_count": 8,
   "metadata": {},
   "outputs": [
    {
     "name": "stdout",
     "output_type": "stream",
     "text": [
      "+-----+-------+\n",
      "|funny|  count|\n",
      "+-----+-------+\n",
      "|    0|1986979|\n",
      "|    1| 303392|\n",
      "|    2|  95519|\n",
      "|    3|  42092|\n",
      "|    4|  22596|\n",
      "|    5|  13342|\n",
      "|    6|   8671|\n",
      "|    7|   5993|\n",
      "|    8|   4208|\n",
      "|    9|   3067|\n",
      "|   10|   2421|\n",
      "|   11|   1701|\n",
      "|   12|   1353|\n",
      "|   13|   1118|\n",
      "|   14|    919|\n",
      "|   15|    731|\n",
      "|   16|    648|\n",
      "|   17|    505|\n",
      "|   18|    466|\n",
      "|   19|    406|\n",
      "+-----+-------+\n",
      "only showing top 20 rows\n",
      "\n"
     ]
    }
   ],
   "source": [
    "#The distribution of how many funny did reviews get.\n",
    "\n",
    "review_data.groupBy(\"funny\").count().sort(col(\"count\").desc()).show()"
   ]
  },
  {
   "cell_type": "code",
   "execution_count": 38,
   "metadata": {},
   "outputs": [
    {
     "name": "stdout",
     "output_type": "stream",
     "text": [
      "+--------------------+----------+\n",
      "|                text|avg(funny)|\n",
      "+--------------------+----------+\n",
      "|Flew to Arizona a...|    1290.0|\n",
      "|I refuse to judge...|     970.0|\n",
      "|First walked in a...|     703.0|\n",
      "|Last night I ate ...|     696.0|\n",
      "|In retrospect I s...|     628.0|\n",
      "|This is an update...|     625.0|\n",
      "|I was on business...|     614.0|\n",
      "|While in town we ...|     589.0|\n",
      "|Although this may...|     534.0|\n",
      "|I went to Amy's B...|     523.0|\n",
      "|Best pizza in Ame...|     512.0|\n",
      "|Eat the Candy Bar...|     460.0|\n",
      "|Solid perfectly e...|     460.0|\n",
      "|Are we REALLY doi...|     440.0|\n",
      "|I came here with ...|     412.0|\n",
      "|First Samy delive...|     409.0|\n",
      "|Came here with an...|     389.0|\n",
      "|The owner (Sammy?...|     377.0|\n",
      "|I ate here for di...|     373.0|\n",
      "|This was my third...|     358.0|\n",
      "+--------------------+----------+\n",
      "only showing top 20 rows\n",
      "\n"
     ]
    }
   ],
   "source": [
    "# Top 20 funny reviews.\n",
    "\n",
    "review_data.groupBy(\"text\").avg(\"funny\").sort(col(\"avg(funny)\").desc()).show()"
   ]
  },
  {
   "cell_type": "code",
   "execution_count": 9,
   "metadata": {},
   "outputs": [
    {
     "name": "stdout",
     "output_type": "stream",
     "text": [
      "+----+-------+\n",
      "|cool|  count|\n",
      "+----+-------+\n",
      "|   0|1873872|\n",
      "|   1| 379136|\n",
      "|   2| 117387|\n",
      "|   3|  48823|\n",
      "|   4|  24618|\n",
      "|   5|  14704|\n",
      "|   6|   9514|\n",
      "|   7|   6703|\n",
      "|   8|   4656|\n",
      "|   9|   3547|\n",
      "|  10|   2690|\n",
      "|  11|   2089|\n",
      "|  12|   1568|\n",
      "|  13|   1364|\n",
      "|  14|   1058|\n",
      "|  15|    945|\n",
      "|  16|    712|\n",
      "|  17|    599|\n",
      "|  18|    585|\n",
      "|  19|    490|\n",
      "+----+-------+\n",
      "only showing top 20 rows\n",
      "\n"
     ]
    }
   ],
   "source": [
    "#The distribution of how many cool did reviews get.\n",
    "\n",
    "review_data.groupBy(\"cool\").count().sort(col(\"count\").desc()).show()"
   ]
  },
  {
   "cell_type": "code",
   "execution_count": 39,
   "metadata": {},
   "outputs": [
    {
     "name": "stdout",
     "output_type": "stream",
     "text": [
      "+--------------------+---------+\n",
      "|                text|avg(cool)|\n",
      "+--------------------+---------+\n",
      "|In retrospect I s...|    506.0|\n",
      "|It's perky! It's ...|    268.0|\n",
      "|This is one of th...|    232.0|\n",
      "|I really like the...|    227.0|\n",
      "|In the US there a...|    225.0|\n",
      "|Two things: world...|    219.0|\n",
      "|If you wake up to...|    217.0|\n",
      "|Gaucho Parrilla i...|    214.0|\n",
      "|Eggslut has opene...|    207.0|\n",
      "|This was a great ...|    203.0|\n",
      "|I dated the follo...|    203.0|\n",
      "|Wenn man auf dem ...|    202.0|\n",
      "|Bei unserem morge...|    201.0|\n",
      "|Bei unserem Bumme...|    199.0|\n",
      "|I went to this pl...|    199.0|\n",
      "|Nachdem wir die L...|    198.0|\n",
      "|Holsteins Shake a...|    197.0|\n",
      "|Unser eher besche...|    197.0|\n",
      "|Was feeling fanta...|    194.0|\n",
      "|What is this plac...|    192.0|\n",
      "+--------------------+---------+\n",
      "only showing top 20 rows\n",
      "\n"
     ]
    }
   ],
   "source": [
    "# Top 20 cool reviews.\n",
    "\n",
    "review_data.groupBy(\"text\").avg(\"cool\").sort(col(\"avg(cool)\").desc()).show()"
   ]
  },
  {
   "cell_type": "code",
   "execution_count": 12,
   "metadata": {},
   "outputs": [],
   "source": [
    "user_data = spark.read\\\n",
    "  .format('csv')\\\n",
    "  .option('header', 'true')\\\n",
    "  .option('inferSchema', 'true')\\\n",
    "  .load('s3://bigdataclasslhn/Prj_Yelp/yelp_user.csv')"
   ]
  },
  {
   "cell_type": "code",
   "execution_count": 14,
   "metadata": {},
   "outputs": [
    {
     "name": "stdout",
     "output_type": "stream",
     "text": [
      "+------------+------+\n",
      "|review_count| count|\n",
      "+------------+------+\n",
      "|           1|298779|\n",
      "|           2|207849|\n",
      "|           3|156478|\n",
      "|           4|112314|\n",
      "|           5| 85060|\n",
      "|           6| 67603|\n",
      "|           7| 55442|\n",
      "|           8| 46466|\n",
      "|           9| 40332|\n",
      "|          10| 35688|\n",
      "|          11| 31178|\n",
      "|          12| 28030|\n",
      "|          13| 24626|\n",
      "|          14| 22545|\n",
      "|          15| 20598|\n",
      "|          16| 18675|\n",
      "|          17| 17217|\n",
      "|          18| 15658|\n",
      "|          19| 14389|\n",
      "|          20| 13367|\n",
      "+------------+------+\n",
      "only showing top 20 rows\n",
      "\n"
     ]
    }
   ],
   "source": [
    "# How many reviews did every customer write?\n",
    "\n",
    "user_data.groupBy(\"review_count\").count().sort(col(\"count\").desc()).show()"
   ]
  },
  {
   "cell_type": "code",
   "execution_count": 20,
   "metadata": {},
   "outputs": [
    {
     "name": "stdout",
     "output_type": "stream",
     "text": [
      "+----+-------+\n",
      "|fans|  count|\n",
      "+----+-------+\n",
      "|   0|1277255|\n",
      "|   1| 174832|\n",
      "|   2|  58610|\n",
      "|   3|  28723|\n",
      "|   4|  17594|\n",
      "|   5|  11807|\n",
      "|   6|   8357|\n",
      "|   7|   6569|\n",
      "|   8|   5338|\n",
      "|   9|   4360|\n",
      "|  10|   3622|\n",
      "|  11|   3061|\n",
      "|  12|   2638|\n",
      "|  13|   2327|\n",
      "|  14|   2116|\n",
      "|  15|   1837|\n",
      "|  16|   1687|\n",
      "|  17|   1468|\n",
      "|  18|   1385|\n",
      "|  19|   1230|\n",
      "+----+-------+\n",
      "only showing top 20 rows\n",
      "\n"
     ]
    }
   ],
   "source": [
    "# How many fans does every customer have?\n",
    "\n",
    "user_data.groupBy(\"fans\").count().sort(col(\"count\").desc()).show()"
   ]
  },
  {
   "cell_type": "code",
   "execution_count": 33,
   "metadata": {},
   "outputs": [
    {
     "name": "stdout",
     "output_type": "stream",
     "text": [
      "+----+---------+\n",
      "|fans|avg(fans)|\n",
      "+----+---------+\n",
      "|9538|   9538.0|\n",
      "|2964|   2964.0|\n",
      "|2434|   2434.0|\n",
      "|2383|   2383.0|\n",
      "|2132|   2132.0|\n",
      "|2123|   2123.0|\n",
      "|2086|   2086.0|\n",
      "|1964|   1964.0|\n",
      "|1944|   1944.0|\n",
      "|1878|   1878.0|\n",
      "|1780|   1780.0|\n",
      "|1698|   1698.0|\n",
      "|1574|   1574.0|\n",
      "|1558|   1558.0|\n",
      "|1530|   1530.0|\n",
      "|1500|   1500.0|\n",
      "|1495|   1495.0|\n",
      "|1462|   1462.0|\n",
      "|1443|   1443.0|\n",
      "|1434|   1434.0|\n",
      "+----+---------+\n",
      "only showing top 20 rows\n",
      "\n"
     ]
    }
   ],
   "source": [
    "# Top 20 users that have most fans.\n",
    "\n",
    "user_data.groupBy(\"fans\").avg(\"fans\").sort(col(\"fans\").desc()).show()"
   ]
  },
  {
   "cell_type": "code",
   "execution_count": 31,
   "metadata": {},
   "outputs": [
    {
     "name": "stdout",
     "output_type": "stream",
     "text": [
      "+-------------+------+\n",
      "|average_stars| count|\n",
      "+-------------+------+\n",
      "|          5.0|326716|\n",
      "|          1.0|121359|\n",
      "|          3.0| 91923|\n",
      "|          4.0| 90760|\n",
      "|         3.67| 44267|\n",
      "|          2.0| 35906|\n",
      "|          4.5| 34018|\n",
      "|          3.5| 29836|\n",
      "|         4.33| 22222|\n",
      "|         2.33| 21649|\n",
      "|         4.67| 18362|\n",
      "|          4.2| 17035|\n",
      "|         3.33| 15425|\n",
      "|          2.5| 14442|\n",
      "|         3.75| 13526|\n",
      "|         4.25| 12857|\n",
      "|          3.4| 12275|\n",
      "|         4.75| 10607|\n",
      "|         2.67| 10511|\n",
      "|          3.8| 10105|\n",
      "+-------------+------+\n",
      "only showing top 20 rows\n",
      "\n"
     ]
    }
   ],
   "source": [
    "# What's average stars does every user give?\n",
    "\n",
    "user_data.groupBy(\"average_stars\").count().sort(col(\"count\").desc()).show()"
   ]
  },
  {
   "cell_type": "code",
   "execution_count": null,
   "metadata": {},
   "outputs": [],
   "source": []
  }
 ],
 "metadata": {
  "kernelspec": {
   "display_name": "Python 3",
   "language": "python",
   "name": "python3"
  },
  "language_info": {
   "codemirror_mode": {
    "name": "ipython",
    "version": 3
   },
   "file_extension": ".py",
   "mimetype": "text/x-python",
   "name": "python",
   "nbconvert_exporter": "python",
   "pygments_lexer": "ipython3",
   "version": "3.6.5"
  }
 },
 "nbformat": 4,
 "nbformat_minor": 4
}
